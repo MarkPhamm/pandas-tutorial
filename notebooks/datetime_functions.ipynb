{
 "cells": [
  {
   "cell_type": "code",
   "execution_count": 1,
   "metadata": {},
   "outputs": [],
   "source": [
    "import pandas as pd\n",
    "from datetime import datetime"
   ]
  },
  {
   "cell_type": "code",
   "execution_count": 2,
   "metadata": {},
   "outputs": [],
   "source": [
    "# Sample DataFrame with nulls\n",
    "data = {\n",
    "    'customer_id': [1, 2, 3, 4, 5, 1, None],\n",
    "    'product': ['A', 'B', 'C', 'A', None, 'A', 'C'],\n",
    "    'quantity': [2, 1, 5, 3, 2, None, 1],\n",
    "    'price': [10.5, 20.0, 7.5, 10.5, 20.0, 10.5, None],\n",
    "    'purchase_date': [\n",
    "        '2025-04-01',\n",
    "        '2025-04-02', \n",
    "        '2025-04-02',\n",
    "        '2025-04-03',\n",
    "        '2025-04-04',\n",
    "        None,\n",
    "        '2025-04-05'\n",
    "    ],\n",
    "    'ship_date': [\n",
    "        datetime(2025, 4, 2),\n",
    "        datetime(2025, 4, 3),\n",
    "        datetime(2025, 4, 3),\n",
    "        datetime(2025, 4, 4),\n",
    "        datetime(2025, 4, 7),\n",
    "        datetime(2025, 4, 6),\n",
    "        None\n",
    "    ],\n",
    "    'region': ['North', 'South', 'East', 'North', 'South', 'North', 'East']\n",
    "}\n",
    "\n",
    "df = pd.DataFrame(data)"
   ]
  },
  {
   "cell_type": "markdown",
   "metadata": {},
   "source": [
    "# 1. Create a timestamp"
   ]
  },
  {
   "cell_type": "code",
   "execution_count": 3,
   "metadata": {},
   "outputs": [
    {
     "data": {
      "text/plain": [
       "Timestamp('2025-04-01 00:00:00')"
      ]
     },
     "execution_count": 3,
     "metadata": {},
     "output_type": "execute_result"
    }
   ],
   "source": [
    "pd.Timestamp('2025-04-01')\n"
   ]
  },
  {
   "cell_type": "markdown",
   "metadata": {},
   "source": [
    "# 2. Create a time delta"
   ]
  },
  {
   "cell_type": "code",
   "execution_count": 4,
   "metadata": {},
   "outputs": [
    {
     "data": {
      "text/plain": [
       "Timedelta('30 days 00:00:00')"
      ]
     },
     "execution_count": 4,
     "metadata": {},
     "output_type": "execute_result"
    }
   ],
   "source": [
    "pd.Timedelta(days=30)"
   ]
  },
  {
   "cell_type": "markdown",
   "metadata": {},
   "source": [
    "# 3. Convert a column to datetime"
   ]
  },
  {
   "cell_type": "code",
   "execution_count": 7,
   "metadata": {},
   "outputs": [
    {
     "data": {
      "text/plain": [
       "0   2025-04-01\n",
       "1   2025-04-02\n",
       "2   2025-04-02\n",
       "3   2025-04-03\n",
       "4   2025-04-04\n",
       "5          NaT\n",
       "6   2025-04-05\n",
       "Name: purchase_date, dtype: datetime64[ns]"
      ]
     },
     "execution_count": 7,
     "metadata": {},
     "output_type": "execute_result"
    }
   ],
   "source": [
    "df['purchase_date'] = pd.to_datetime(df['purchase_date'])\n",
    "df['purchase_date']"
   ]
  },
  {
   "cell_type": "markdown",
   "metadata": {},
   "source": [
    "# 4. Extract day from datetime"
   ]
  },
  {
   "cell_type": "code",
   "execution_count": 10,
   "metadata": {},
   "outputs": [
    {
     "data": {
      "text/plain": [
       "0    1.0\n",
       "1    2.0\n",
       "2    2.0\n",
       "3    3.0\n",
       "4    4.0\n",
       "5    NaN\n",
       "6    5.0\n",
       "Name: date_of_purchase, dtype: float64"
      ]
     },
     "execution_count": 10,
     "metadata": {},
     "output_type": "execute_result"
    }
   ],
   "source": [
    "df['date_of_purchase'] = df['purchase_date'].dt.day\n",
    "df['date_of_purchase']\n"
   ]
  },
  {
   "cell_type": "markdown",
   "metadata": {},
   "source": [
    "# 5. Convert datetime to monthly period"
   ]
  },
  {
   "cell_type": "code",
   "execution_count": 15,
   "metadata": {},
   "outputs": [
    {
     "data": {
      "text/plain": [
       "0    2025-04\n",
       "1    2025-04\n",
       "2    2025-04\n",
       "3    2025-04\n",
       "4    2025-04\n",
       "5        NaT\n",
       "6    2025-04\n",
       "Name: month_of_purchase, dtype: period[M]"
      ]
     },
     "execution_count": 15,
     "metadata": {},
     "output_type": "execute_result"
    }
   ],
   "source": [
    "df['month_of_purchase'] = df['purchase_date'].dt.to_period('M')\n",
    "df['month_of_purchase']\n"
   ]
  },
  {
   "cell_type": "markdown",
   "metadata": {},
   "source": [
    "# 6. Calculate time difference in seconds"
   ]
  },
  {
   "cell_type": "code",
   "execution_count": 16,
   "metadata": {},
   "outputs": [
    {
     "data": {
      "text/plain": [
       "0     86400.0\n",
       "1     86400.0\n",
       "2     86400.0\n",
       "3     86400.0\n",
       "4    259200.0\n",
       "5         NaN\n",
       "6         NaN\n",
       "dtype: float64"
      ]
     },
     "execution_count": 16,
     "metadata": {},
     "output_type": "execute_result"
    }
   ],
   "source": [
    "(df['ship_date'] - df['purchase_date']).dt.total_seconds()"
   ]
  }
 ],
 "metadata": {
  "kernelspec": {
   "display_name": "venv",
   "language": "python",
   "name": "python3"
  },
  "language_info": {
   "codemirror_mode": {
    "name": "ipython",
    "version": 3
   },
   "file_extension": ".py",
   "mimetype": "text/x-python",
   "name": "python",
   "nbconvert_exporter": "python",
   "pygments_lexer": "ipython3",
   "version": "3.11.9"
  }
 },
 "nbformat": 4,
 "nbformat_minor": 2
}
