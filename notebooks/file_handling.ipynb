{
 "cells": [
  {
   "cell_type": "code",
   "execution_count": 12,
   "metadata": {},
   "outputs": [],
   "source": [
    "import pandas as pd\n",
    "from datetime import datetime"
   ]
  },
  {
   "cell_type": "code",
   "execution_count": 13,
   "metadata": {},
   "outputs": [
    {
     "name": "stdout",
     "output_type": "stream",
     "text": [
      "    employee_id   first_name last_name   department  salary   hire_date  \\\n",
      "0             1         John     Smith  Engineering   75000  2020-01-15   \n",
      "1             2        Sarah   Johnson    Marketing   65000  2019-06-20   \n",
      "2             3      Michael     Brown        Sales   80000  2021-03-10   \n",
      "3             4        Emily     Davis  Engineering   72000  2020-11-05   \n",
      "4             5        David    Wilson           HR   60000  2018-09-12   \n",
      "5             6         Lisa  Anderson    Marketing   68000  2021-07-22   \n",
      "6             7        James    Taylor        Sales   82000  2019-04-18   \n",
      "7             8     Jennifer  Martinez  Engineering   78000  2020-08-30   \n",
      "8             9       Robert  Thompson           HR   62000  2021-01-25   \n",
      "9            10      Jessica    Garcia    Marketing   67000  2019-11-08   \n",
      "10           11      William       Lee  Engineering   76000  2020-05-14   \n",
      "11           12       Amanda     White        Sales   79000  2021-02-28   \n",
      "12           13       Daniel    Harris           HR   61000  2018-12-03   \n",
      "13           14     Michelle     Clark    Marketing   69000  2020-07-19   \n",
      "14           15  Christopher     Lewis  Engineering   74000  2019-08-25   \n",
      "\n",
      "    is_manager  performance_score                      email  \\\n",
      "0         True                4.5     john.smith@company.com   \n",
      "1         True                4.2        sarah.j@company.com   \n",
      "2        False                3.8      michael.b@company.com   \n",
      "3        False                4.7        emily.d@company.com   \n",
      "4         True                4.0        david.w@company.com   \n",
      "5        False                3.9         lisa.a@company.com   \n",
      "6         True                4.3        james.t@company.com   \n",
      "7        False                4.6     jennifer.m@company.com   \n",
      "8        False                3.7       robert.t@company.com   \n",
      "9         True                4.1      jessica.g@company.com   \n",
      "10       False                4.4      william.l@company.com   \n",
      "11       False                3.6       amanda.w@company.com   \n",
      "12        True                4.8       daniel.h@company.com   \n",
      "13       False                4.0     michelle.c@company.com   \n",
      "14        True                4.2  christopher.l@company.com   \n",
      "\n",
      "              last_login  \n",
      "0    2023-12-01 09:30:00  \n",
      "1    2023-12-02 10:15:00  \n",
      "2    2023-12-01 14:20:00  \n",
      "3    2023-12-02 11:45:00  \n",
      "4    2023-12-01 16:30:00  \n",
      "5    2023-12-02 09:00:00  \n",
      "6    2023-12-01 13:15:00  \n",
      "7    2023-12-02 15:45:00  \n",
      "8    2023-12-01 10:00:00  \n",
      "9    2023-12-02 14:30:00  \n",
      "10   2023-12-01 11:20:00  \n",
      "11   2023-12-02 16:00:00  \n",
      "12   2023-12-01 09:45:00  \n",
      "13   2023-12-02 12:30:00  \n",
      "14  2023-12-01 15:15:00   \n"
     ]
    }
   ],
   "source": [
    "# Read the CSV file into a DataFrame\n",
    "df = pd.read_csv('data.csv')\n",
    "print(df)\n"
   ]
  },
  {
   "cell_type": "markdown",
   "metadata": {},
   "source": [
    "# 2. Read a CSV with index column\n"
   ]
  },
  {
   "cell_type": "code",
   "execution_count": 14,
   "metadata": {},
   "outputs": [
    {
     "name": "stdout",
     "output_type": "stream",
     "text": [
      "              first_name last_name   department  salary   hire_date  \\\n",
      "employee_id                                                           \n",
      "1                   John     Smith  Engineering   75000  2020-01-15   \n",
      "2                  Sarah   Johnson    Marketing   65000  2019-06-20   \n",
      "3                Michael     Brown        Sales   80000  2021-03-10   \n",
      "4                  Emily     Davis  Engineering   72000  2020-11-05   \n",
      "5                  David    Wilson           HR   60000  2018-09-12   \n",
      "6                   Lisa  Anderson    Marketing   68000  2021-07-22   \n",
      "7                  James    Taylor        Sales   82000  2019-04-18   \n",
      "8               Jennifer  Martinez  Engineering   78000  2020-08-30   \n",
      "9                 Robert  Thompson           HR   62000  2021-01-25   \n",
      "10               Jessica    Garcia    Marketing   67000  2019-11-08   \n",
      "11               William       Lee  Engineering   76000  2020-05-14   \n",
      "12                Amanda     White        Sales   79000  2021-02-28   \n",
      "13                Daniel    Harris           HR   61000  2018-12-03   \n",
      "14              Michelle     Clark    Marketing   69000  2020-07-19   \n",
      "15           Christopher     Lewis  Engineering   74000  2019-08-25   \n",
      "\n",
      "             is_manager  performance_score                      email  \\\n",
      "employee_id                                                             \n",
      "1                  True                4.5     john.smith@company.com   \n",
      "2                  True                4.2        sarah.j@company.com   \n",
      "3                 False                3.8      michael.b@company.com   \n",
      "4                 False                4.7        emily.d@company.com   \n",
      "5                  True                4.0        david.w@company.com   \n",
      "6                 False                3.9         lisa.a@company.com   \n",
      "7                  True                4.3        james.t@company.com   \n",
      "8                 False                4.6     jennifer.m@company.com   \n",
      "9                 False                3.7       robert.t@company.com   \n",
      "10                 True                4.1      jessica.g@company.com   \n",
      "11                False                4.4      william.l@company.com   \n",
      "12                False                3.6       amanda.w@company.com   \n",
      "13                 True                4.8       daniel.h@company.com   \n",
      "14                False                4.0     michelle.c@company.com   \n",
      "15                 True                4.2  christopher.l@company.com   \n",
      "\n",
      "                       last_login  \n",
      "employee_id                        \n",
      "1             2023-12-01 09:30:00  \n",
      "2             2023-12-02 10:15:00  \n",
      "3             2023-12-01 14:20:00  \n",
      "4             2023-12-02 11:45:00  \n",
      "5             2023-12-01 16:30:00  \n",
      "6             2023-12-02 09:00:00  \n",
      "7             2023-12-01 13:15:00  \n",
      "8             2023-12-02 15:45:00  \n",
      "9             2023-12-01 10:00:00  \n",
      "10            2023-12-02 14:30:00  \n",
      "11            2023-12-01 11:20:00  \n",
      "12            2023-12-02 16:00:00  \n",
      "13            2023-12-01 09:45:00  \n",
      "14            2023-12-02 12:30:00  \n",
      "15           2023-12-01 15:15:00   \n"
     ]
    }
   ],
   "source": [
    "df = pd.read_csv('data.csv', index_col=0)\n",
    "print(df)"
   ]
  },
  {
   "cell_type": "markdown",
   "metadata": {},
   "source": [
    "# 3. Write a DataFrame to CSV"
   ]
  },
  {
   "cell_type": "code",
   "execution_count": 16,
   "metadata": {},
   "outputs": [],
   "source": [
    "df.to_csv('output.csv', index=False)"
   ]
  },
  {
   "cell_type": "markdown",
   "metadata": {},
   "source": [
    "# 4. Read a CSV with specific columns"
   ]
  },
  {
   "cell_type": "code",
   "execution_count": 18,
   "metadata": {},
   "outputs": [
    {
     "name": "stdout",
     "output_type": "stream",
     "text": [
      "     first_name last_name\n",
      "0          John     Smith\n",
      "1         Sarah   Johnson\n",
      "2       Michael     Brown\n",
      "3         Emily     Davis\n",
      "4         David    Wilson\n",
      "5          Lisa  Anderson\n",
      "6         James    Taylor\n",
      "7      Jennifer  Martinez\n",
      "8        Robert  Thompson\n",
      "9       Jessica    Garcia\n",
      "10      William       Lee\n",
      "11       Amanda     White\n",
      "12       Daniel    Harris\n",
      "13     Michelle     Clark\n",
      "14  Christopher     Lewis\n"
     ]
    }
   ],
   "source": [
    "df = pd.read_csv('data.csv', usecols=['first_name', 'last_name'])\n",
    "print(df)\n"
   ]
  },
  {
   "cell_type": "markdown",
   "metadata": {},
   "source": [
    "# 5. Read only first N rows from a CSV"
   ]
  },
  {
   "cell_type": "code",
   "execution_count": 21,
   "metadata": {},
   "outputs": [
    {
     "name": "stdout",
     "output_type": "stream",
     "text": [
      "   employee_id first_name last_name   department  salary   hire_date  \\\n",
      "0            1       John     Smith  Engineering   75000  2020-01-15   \n",
      "1            2      Sarah   Johnson    Marketing   65000  2019-06-20   \n",
      "2            3    Michael     Brown        Sales   80000  2021-03-10   \n",
      "3            4      Emily     Davis  Engineering   72000  2020-11-05   \n",
      "4            5      David    Wilson           HR   60000  2018-09-12   \n",
      "\n",
      "   is_manager  performance_score                   email           last_login  \n",
      "0        True                4.5  john.smith@company.com  2023-12-01 09:30:00  \n",
      "1        True                4.2     sarah.j@company.com  2023-12-02 10:15:00  \n",
      "2       False                3.8   michael.b@company.com  2023-12-01 14:20:00  \n",
      "3       False                4.7     emily.d@company.com  2023-12-02 11:45:00  \n",
      "4        True                4.0     david.w@company.com  2023-12-01 16:30:00  \n"
     ]
    }
   ],
   "source": [
    "df = pd.read_csv('data.csv', nrows=5)\n",
    "print(df)"
   ]
  },
  {
   "cell_type": "markdown",
   "metadata": {},
   "source": [
    "# 6. Skip initial rows while reading"
   ]
  },
  {
   "cell_type": "code",
   "execution_count": 25,
   "metadata": {},
   "outputs": [
    {
     "name": "stdout",
     "output_type": "stream",
     "text": [
      "     4        Emily     Davis  Engineering  72000  2020-11-05  False  4.7  \\\n",
      "0    5        David    Wilson           HR  60000  2018-09-12   True  4.0   \n",
      "1    6         Lisa  Anderson    Marketing  68000  2021-07-22  False  3.9   \n",
      "2    7        James    Taylor        Sales  82000  2019-04-18   True  4.3   \n",
      "3    8     Jennifer  Martinez  Engineering  78000  2020-08-30  False  4.6   \n",
      "4    9       Robert  Thompson           HR  62000  2021-01-25  False  3.7   \n",
      "5   10      Jessica    Garcia    Marketing  67000  2019-11-08   True  4.1   \n",
      "6   11      William       Lee  Engineering  76000  2020-05-14  False  4.4   \n",
      "7   12       Amanda     White        Sales  79000  2021-02-28  False  3.6   \n",
      "8   13       Daniel    Harris           HR  61000  2018-12-03   True  4.8   \n",
      "9   14     Michelle     Clark    Marketing  69000  2020-07-19  False  4.0   \n",
      "10  15  Christopher     Lewis  Engineering  74000  2019-08-25   True  4.2   \n",
      "\n",
      "          emily.d@company.com   2023-12-02 11:45:00  \n",
      "0         david.w@company.com   2023-12-01 16:30:00  \n",
      "1          lisa.a@company.com   2023-12-02 09:00:00  \n",
      "2         james.t@company.com   2023-12-01 13:15:00  \n",
      "3      jennifer.m@company.com   2023-12-02 15:45:00  \n",
      "4        robert.t@company.com   2023-12-01 10:00:00  \n",
      "5       jessica.g@company.com   2023-12-02 14:30:00  \n",
      "6       william.l@company.com   2023-12-01 11:20:00  \n",
      "7        amanda.w@company.com   2023-12-02 16:00:00  \n",
      "8        daniel.h@company.com   2023-12-01 09:45:00  \n",
      "9      michelle.c@company.com   2023-12-02 12:30:00  \n",
      "10  christopher.l@company.com  2023-12-01 15:15:00   \n"
     ]
    }
   ],
   "source": [
    "df = pd.read_csv('data.csv', skiprows=4)\n",
    "print(df)"
   ]
  },
  {
   "cell_type": "markdown",
   "metadata": {},
   "source": [
    "# 7. Handle missing values while reading"
   ]
  },
  {
   "cell_type": "code",
   "execution_count": 27,
   "metadata": {},
   "outputs": [
    {
     "name": "stdout",
     "output_type": "stream",
     "text": [
      "    employee_id   first_name last_name   department  salary   hire_date  \\\n",
      "0             1         John     Smith  Engineering   75000  2020-01-15   \n",
      "1             2        Sarah   Johnson    Marketing   65000  2019-06-20   \n",
      "2             3      Michael     Brown        Sales   80000  2021-03-10   \n",
      "3             4        Emily     Davis  Engineering   72000  2020-11-05   \n",
      "4             5        David    Wilson           HR   60000  2018-09-12   \n",
      "5             6         Lisa  Anderson    Marketing   68000  2021-07-22   \n",
      "6             7        James    Taylor        Sales   82000  2019-04-18   \n",
      "7             8     Jennifer  Martinez  Engineering   78000  2020-08-30   \n",
      "8             9       Robert  Thompson           HR   62000  2021-01-25   \n",
      "9            10      Jessica    Garcia    Marketing   67000  2019-11-08   \n",
      "10           11      William       Lee  Engineering   76000  2020-05-14   \n",
      "11           12       Amanda     White        Sales   79000  2021-02-28   \n",
      "12           13       Daniel    Harris           HR   61000  2018-12-03   \n",
      "13           14     Michelle     Clark    Marketing   69000  2020-07-19   \n",
      "14           15  Christopher     Lewis  Engineering   74000  2019-08-25   \n",
      "\n",
      "    is_manager  performance_score                      email  \\\n",
      "0         True                4.5     john.smith@company.com   \n",
      "1         True                4.2        sarah.j@company.com   \n",
      "2        False                3.8      michael.b@company.com   \n",
      "3        False                4.7        emily.d@company.com   \n",
      "4         True                4.0        david.w@company.com   \n",
      "5        False                3.9         lisa.a@company.com   \n",
      "6         True                4.3        james.t@company.com   \n",
      "7        False                4.6     jennifer.m@company.com   \n",
      "8        False                3.7       robert.t@company.com   \n",
      "9         True                4.1      jessica.g@company.com   \n",
      "10       False                4.4      william.l@company.com   \n",
      "11       False                3.6       amanda.w@company.com   \n",
      "12        True                4.8       daniel.h@company.com   \n",
      "13       False                4.0     michelle.c@company.com   \n",
      "14        True                4.2  christopher.l@company.com   \n",
      "\n",
      "              last_login  \n",
      "0    2023-12-01 09:30:00  \n",
      "1    2023-12-02 10:15:00  \n",
      "2    2023-12-01 14:20:00  \n",
      "3    2023-12-02 11:45:00  \n",
      "4    2023-12-01 16:30:00  \n",
      "5    2023-12-02 09:00:00  \n",
      "6    2023-12-01 13:15:00  \n",
      "7    2023-12-02 15:45:00  \n",
      "8    2023-12-01 10:00:00  \n",
      "9    2023-12-02 14:30:00  \n",
      "10   2023-12-01 11:20:00  \n",
      "11   2023-12-02 16:00:00  \n",
      "12   2023-12-01 09:45:00  \n",
      "13   2023-12-02 12:30:00  \n",
      "14  2023-12-01 15:15:00   \n"
     ]
    }
   ],
   "source": [
    "df = pd.read_csv('data.csv', na_values=['NA', 'null', 'NaN'])\n",
    "print(df)\n"
   ]
  }
 ],
 "metadata": {
  "kernelspec": {
   "display_name": "venv",
   "language": "python",
   "name": "python3"
  },
  "language_info": {
   "codemirror_mode": {
    "name": "ipython",
    "version": 3
   },
   "file_extension": ".py",
   "mimetype": "text/x-python",
   "name": "python",
   "nbconvert_exporter": "python",
   "pygments_lexer": "ipython3",
   "version": "3.11.9"
  }
 },
 "nbformat": 4,
 "nbformat_minor": 2
}
